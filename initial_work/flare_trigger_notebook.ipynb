{
 "cells": [
  {
   "cell_type": "markdown",
   "id": "352c81a9",
   "metadata": {},
   "source": [
    "# Python Notebook Used for Running the Flare Prediction on a Dataset\n",
    "\n",
    "Python scripts to download the entire GOES XRS and EUVS dataset are in preparation (waiting on more space in the MSI as well)."
   ]
  },
  {
   "cell_type": "code",
   "execution_count": 5,
   "id": "88c0e083",
   "metadata": {},
   "outputs": [
    {
     "data": {
      "text/plain": [
       "<module 'flare_finder' from '/Users/mariannepeterson/flare_prediction_work/flarepred/flare_finder.py'>"
      ]
     },
     "execution_count": 5,
     "metadata": {},
     "output_type": "execute_result"
    }
   ],
   "source": [
    "import flare_finder\n",
    "import start_end_conditions\n",
    "\n",
    "import importlib\n",
    "importlib.reload(flare_finder)"
   ]
  },
  {
   "cell_type": "markdown",
   "id": "5817cae3",
   "metadata": {},
   "source": [
    "**1. Running the Flare trigger code**\n",
    "\n",
    "This utilizes the flare start, end and hold conditions. The XRS data is downloaded, and looped through until a flare \"trigger condition\" is met. For each flare trigger, hold conditions are implemented. Summary statistics are calculated for the remaining flares."
   ]
  },
  {
   "cell_type": "code",
   "execution_count": 7,
   "id": "119ade5c",
   "metadata": {},
   "outputs": [],
   "source": [
    "files = f'GOES_XRS_1mindat/l2/data/xrsf-l2-avg1m_science/2022/08/*'\n",
    "\n",
    "finder = flare_finder.FlareTriggerFinder(files)\n",
    "finder.load_data()\n",
    "finder.find_starts_ends(\n",
    "    start_cond=start_end_conditions.initial_start_cond,\n",
    "    end_cond=start_end_conditions.initial_end_cond\n",
    ")\n",
    "finder.implement_hold_conditions(\n",
    "    magnitude_hold_condition=start_end_conditions.magnitude_hold_condition\n",
    ")\n",
    "finder.calculate_summary_statistics()"
   ]
  },
  {
   "cell_type": "markdown",
   "id": "c72db06d",
   "metadata": {},
   "source": [
    "**2. Downloading summary statistics**\n",
    "\n",
    "Uncomment if you want to save the flare summary statistics from the most recent run as a .csv file"
   ]
  },
  {
   "cell_type": "code",
   "execution_count": 8,
   "id": "7fd228ae",
   "metadata": {},
   "outputs": [],
   "source": [
    "# directory_name = 'flare_trigger_run' #change this as you see fit\n",
    "# if not os.path.exists(directory_name): os.mkdir(directory_name)\n",
    "\n",
    "# #saving summary statistics dataframe as .csv file\n",
    "# finder.summary_stats['foxsi'].to_csv(f'{directory_name}/foxsi_flux.csv')\n",
    "# finder.summary_stats['hi-c'].to_csv(f'{directory_name}/hic_flux.csv')"
   ]
  },
  {
   "cell_type": "markdown",
   "id": "951b6eea",
   "metadata": {},
   "source": [
    "**3. Saving plots for each flare trigger**\n",
    "\n",
    "Uncomment if you would like a plot to be saved for each flare trigger. The plot consists of GOES XRSA and XRSB lightcurves. The trigger, launch and observation windows are shown for both FOXSI and HI-C"
   ]
  },
  {
   "cell_type": "code",
   "execution_count": 9,
   "id": "4acaf08a",
   "metadata": {},
   "outputs": [],
   "source": [
    "# plot = plotting_flares(finder, directory_name)"
   ]
  },
  {
   "cell_type": "code",
   "execution_count": null,
   "id": "7e3e494c",
   "metadata": {},
   "outputs": [],
   "source": []
  }
 ],
 "metadata": {
  "kernelspec": {
   "display_name": "Python 3 (ipykernel)",
   "language": "python",
   "name": "python3"
  },
  "language_info": {
   "codemirror_mode": {
    "name": "ipython",
    "version": 3
   },
   "file_extension": ".py",
   "mimetype": "text/x-python",
   "name": "python",
   "nbconvert_exporter": "python",
   "pygments_lexer": "ipython3",
   "version": "3.7.12"
  }
 },
 "nbformat": 4,
 "nbformat_minor": 5
}
